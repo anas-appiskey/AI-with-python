{
 "cells": [
  {
   "cell_type": "markdown",
   "metadata": {},
   "source": [
    "# Linear Regression "
   ]
  },
  {
   "cell_type": "code",
   "execution_count": null,
   "metadata": {},
   "outputs": [],
   "source": [
    "from numpy import *"
   ]
  },
  {
   "cell_type": "code",
   "execution_count": 86,
   "metadata": {},
   "outputs": [],
   "source": [
    "def compute_error_for_the_line_given_points(b,m,points):\n",
    "    total_error =0\n",
    "    for i in range (0, len(points)):\n",
    "        x = points[i,0]\n",
    "        y = points[i,1]\n",
    "        #y= mx+b\n",
    "        total_error += (y - (m * x + b)) **2\n",
    "    return total_error/ float(len(points))"
   ]
  },
  {
   "cell_type": "code",
   "execution_count": 87,
   "metadata": {},
   "outputs": [],
   "source": [
    "def gradient_descent_runner(points,initial_b,initial_m,learning_rate,num_iterations):\n",
    "    b = initial_b\n",
    "    m = initial_m\n",
    "    for i in range (num_iterations):\n",
    "        b,m = step_gradient (b,m,array(points),learning_rate)\n",
    "    return[b,m]"
   ]
  },
  {
   "cell_type": "code",
   "execution_count": 88,
   "metadata": {},
   "outputs": [],
   "source": [
    "def step_gradient (c_b,c_m,points,learning_rate):\n",
    "    b_gradient =0\n",
    "    m_gradient =0\n",
    "    N = float(len(points))\n",
    "    for i in range(0,len(points)):\n",
    "        x = points[i,0]\n",
    "        y=points [i,1]\n",
    "        b_gradient += -(2/N) * (y -((c_m*x) +c_b))\n",
    "        m_gradient += -(2/N) * x * (y-((c_m *x)+ c_b))\n",
    "    new_b =c_b -(learning_rate *b_gradient)\n",
    "    new_m =c_m -(learning_rate *m_gradient)\n",
    "    return [new_b,new_m]\n"
   ]
  },
  {
   "cell_type": "code",
   "execution_count": 89,
   "metadata": {},
   "outputs": [],
   "source": [
    "def run():\n",
    "    points = genfromtxt('data.csv',delimiter=',')\n",
    "    learning_rate =0.0001\n",
    "    initial_b =0\n",
    "    initial_m =0\n",
    "    num_iterations = 1000\n",
    "    print(\"starting gradient descent at b = {0}, m ={1} error={2} \".format(initial_b,initial_m,compute_error_for_the_line_given_points(initial_b, initial_m,points)))\n",
    "    [b,m] = gradient_descent_runner(points,initial_b,initial_m,learning_rate,num_iterations)\n",
    "    print(\"after {0} iterations b={1} , m ={2} , error={3}\".format(num_iterations,b,m,compute_error_for_the_line_given_points(b,m,points)))"
   ]
  },
  {
   "cell_type": "code",
   "execution_count": 90,
   "metadata": {},
   "outputs": [
    {
     "name": "stdout",
     "output_type": "stream",
     "text": [
      "starting gradient descent at b = 0, m =0 error=5565.107834483211 \n",
      "after 1000 iterations b=0.08893651993741346 , m =1.4777440851894448 , error=112.61481011613473\n"
     ]
    }
   ],
   "source": [
    "if __name__ == '__main__':\n",
    "    run()"
   ]
  },
  {
   "cell_type": "code",
   "execution_count": null,
   "metadata": {},
   "outputs": [],
   "source": []
  },
  {
   "cell_type": "code",
   "execution_count": null,
   "metadata": {},
   "outputs": [],
   "source": []
  },
  {
   "cell_type": "code",
   "execution_count": null,
   "metadata": {},
   "outputs": [],
   "source": []
  }
 ],
 "metadata": {
  "kernelspec": {
   "display_name": "Python 3",
   "language": "python",
   "name": "python3"
  },
  "language_info": {
   "codemirror_mode": {
    "name": "ipython",
    "version": 3
   },
   "file_extension": ".py",
   "mimetype": "text/x-python",
   "name": "python",
   "nbconvert_exporter": "python",
   "pygments_lexer": "ipython3",
   "version": "3.7.3"
  }
 },
 "nbformat": 4,
 "nbformat_minor": 2
}
